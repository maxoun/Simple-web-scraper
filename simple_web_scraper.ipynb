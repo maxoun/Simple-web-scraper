{
 "cells": [
  {
   "cell_type": "code",
   "execution_count": 257,
   "id": "055667a0-04c8-45a0-aaf0-cca3d33dd409",
   "metadata": {},
   "outputs": [],
   "source": [
    "from selenium import webdriver\n",
    "import time\n",
    "from selenium.common.exceptions import NoSuchElementException\n",
    "import pandas as pd\n",
    "import numpy as np"
   ]
  },
  {
   "cell_type": "markdown",
   "id": "aa976fbf-a1a6-4c7d-ad0b-0d24f8e8f8eb",
   "metadata": {},
   "source": [
    "Собираем все ссылки объявлений на заданном количестве страниц"
   ]
  },
  {
   "cell_type": "code",
   "execution_count": 169,
   "id": "fab88aad-048f-4cf6-8f4b-de5ac76477b1",
   "metadata": {},
   "outputs": [],
   "source": [
    "ads = []\n",
    "for page in range(20):\n",
    "    driver = webdriver.Chrome()\n",
    "    driver.get('https://www.cars.com/shopping/results/?list_price_max=&makes[]=&maximum_distance=20&models[]=&page={}&stock_type=all&zip=33377'.format(page))\n",
    "    elements = driver.find_elements(By.CLASS_NAME, 'vehicle-card-link')\n",
    "    time.sleep(2)\n",
    "    for element in elements:\n",
    "        ads.append(element.get_attribute('href'))\n",
    "    driver.quit()"
   ]
  },
  {
   "cell_type": "markdown",
   "id": "cf9a38f2-9db5-4b9a-8648-3236dacd99b4",
   "metadata": {},
   "source": [
    "Собираем нужную нам информацию из каждого нашего объявления "
   ]
  },
  {
   "cell_type": "code",
   "execution_count": 194,
   "id": "c481edb4-3607-475b-83fe-3f1c51fe10a5",
   "metadata": {},
   "outputs": [],
   "source": [
    "names = []\n",
    "params = []\n",
    "prices = []\n",
    "description = []\n",
    "\n",
    "for ad in ads:\n",
    "    driver = webdriver.Chrome()\n",
    "    driver.get(ad)\n",
    "    time.sleep(3)\n",
    "    names.append((driver.find_element(By.CLASS_NAME, 'listing-title')).text)\n",
    "    params.append((driver.find_element(By.CLASS_NAME, 'fancy-description-list')).text)\n",
    "    prices.append((driver.find_elements(By.CLASS_NAME, 'primary-price'))[1].text)\n",
    "    description.append((driver.find_element(By.CLASS_NAME, 'sellers-notes')).text)\n",
    "    driver.quit()"
   ]
  },
  {
   "cell_type": "markdown",
   "id": "0a22be9c-e18d-429d-8117-2bf69b183e62",
   "metadata": {},
   "source": [
    "Разделим наши парметры с помощью функции"
   ]
  },
  {
   "cell_type": "code",
   "execution_count": 287,
   "id": "7c80c3fb-4af4-4be6-a531-97999928eaf4",
   "metadata": {},
   "outputs": [],
   "source": [
    "def params_partition(params):\n",
    "    params_dict ={}\n",
    "    for p in params:\n",
    "        splitted_p = p.split('\\n')\n",
    "        if len(splitted_p) < 20:\n",
    "            params_dict.setdefault('exterior_color', []).append(splitted_p[1])\n",
    "            params_dict.setdefault('interior_color', []).append(splitted_p[3])\n",
    "            params_dict.setdefault('drivetrain', []).append(splitted_p[5])\n",
    "            params_dict.setdefault('MPG', []).append(np.nan)\n",
    "            params_dict.setdefault('fuel_type', []).append(splitted_p[7])\n",
    "            params_dict.setdefault('transmission', []).append(splitted_p[9])\n",
    "            params_dict.setdefault('engine', []).append(splitted_p[11])\n",
    "            params_dict.setdefault('VIN', []).append(splitted_p[13])\n",
    "            params_dict.setdefault('stock', []).append(splitted_p[15])\n",
    "            params_dict.setdefault('mileage', []).append(splitted_p[17])       \n",
    "        else:\n",
    "            params_dict.setdefault('exterior_color', []).append(splitted_p[1])\n",
    "            params_dict.setdefault('interior_color', []).append(splitted_p[3])\n",
    "            params_dict.setdefault('drivetrain', []).append(splitted_p[5])\n",
    "            params_dict.setdefault('MPG', []).append(splitted_p[7])\n",
    "            params_dict.setdefault('fuel_type', []).append(splitted_p[9])\n",
    "            params_dict.setdefault('transmission', []).append(splitted_p[11])\n",
    "            params_dict.setdefault('engine', []).append(splitted_p[13])\n",
    "            params_dict.setdefault('VIN', []).append(splitted_p[15])\n",
    "            params_dict.setdefault('stock', []).append(splitted_p[17])\n",
    "            params_dict.setdefault('mileage', []).append(splitted_p[19])\n",
    "            \n",
    "    return  (params_dict) \n",
    "        \n",
    "    "
   ]
  },
  {
   "cell_type": "code",
   "execution_count": 288,
   "id": "0ab0978b-a7e8-4ed6-997e-017c40cb03f2",
   "metadata": {},
   "outputs": [],
   "source": [
    "params_dict = params_partition(params)"
   ]
  },
  {
   "cell_type": "code",
   "execution_count": 289,
   "id": "039aefe5-0480-4cac-997b-e64b143f8680",
   "metadata": {},
   "outputs": [],
   "source": [
    "params_dict['names'] = names\n",
    "params_dict['description'] = description\n",
    "params_dict['prices'] = prices"
   ]
  },
  {
   "cell_type": "markdown",
   "id": "8f25d58a-514b-4ac0-ab0f-277dd5d053bd",
   "metadata": {},
   "source": [
    "Создадим датасет из наших данных"
   ]
  },
  {
   "cell_type": "code",
   "execution_count": 290,
   "id": "0d241b82-894e-40ef-bfd8-f183cfd583bc",
   "metadata": {},
   "outputs": [],
   "source": [
    "Cars_com_data = pd.DataFrame.from_dict(params_dict, orient='index').transpose()"
   ]
  },
  {
   "cell_type": "code",
   "execution_count": 291,
   "id": "90aa9110-8847-4c35-a682-38a87df0fe1a",
   "metadata": {},
   "outputs": [
    {
     "data": {
      "text/html": [
       "<div>\n",
       "<style scoped>\n",
       "    .dataframe tbody tr th:only-of-type {\n",
       "        vertical-align: middle;\n",
       "    }\n",
       "\n",
       "    .dataframe tbody tr th {\n",
       "        vertical-align: top;\n",
       "    }\n",
       "\n",
       "    .dataframe thead th {\n",
       "        text-align: right;\n",
       "    }\n",
       "</style>\n",
       "<table border=\"1\" class=\"dataframe\">\n",
       "  <thead>\n",
       "    <tr style=\"text-align: right;\">\n",
       "      <th></th>\n",
       "      <th>exterior_color</th>\n",
       "      <th>interior_color</th>\n",
       "      <th>drivetrain</th>\n",
       "      <th>MPG</th>\n",
       "      <th>fuel_type</th>\n",
       "      <th>transmission</th>\n",
       "      <th>engine</th>\n",
       "      <th>VIN</th>\n",
       "      <th>stock</th>\n",
       "      <th>mileage</th>\n",
       "      <th>names</th>\n",
       "      <th>description</th>\n",
       "      <th>prices</th>\n",
       "    </tr>\n",
       "  </thead>\n",
       "  <tbody>\n",
       "    <tr>\n",
       "      <th>0</th>\n",
       "      <td>Summit White</td>\n",
       "      <td>Black</td>\n",
       "      <td>Four-wheel Drive</td>\n",
       "      <td>–</td>\n",
       "      <td>Gasoline</td>\n",
       "      <td>6-Speed Automatic</td>\n",
       "      <td>6.6L V8 16V GDI OHV</td>\n",
       "      <td>2GC4YME79P1731662</td>\n",
       "      <td>C3131</td>\n",
       "      <td>3 mi.</td>\n",
       "      <td>2023 Chevrolet Silverado 2500 Custom</td>\n",
       "      <td>2023 Chevrolet Silverado 2500HD Custom 4D Crew...</td>\n",
       "      <td>$54,865</td>\n",
       "    </tr>\n",
       "    <tr>\n",
       "      <th>1</th>\n",
       "      <td>Midnight Emerald</td>\n",
       "      <td>Saddle</td>\n",
       "      <td>All-wheel Drive</td>\n",
       "      <td>–</td>\n",
       "      <td>Hybrid</td>\n",
       "      <td>8-Speed Automatic</td>\n",
       "      <td>3.0L V6 24V GDI DOHC Turbo Hybrid</td>\n",
       "      <td>SJAAT2ZV7PC019709</td>\n",
       "      <td>23B6205</td>\n",
       "      <td>797 mi.</td>\n",
       "      <td>2023 Bentley Bentayga Hybrid Azure</td>\n",
       "      <td>Bentley Beverly Hills is proud to present this...</td>\n",
       "      <td>$246,150</td>\n",
       "    </tr>\n",
       "    <tr>\n",
       "      <th>2</th>\n",
       "      <td>Lunar Silver Metallic</td>\n",
       "      <td>Black</td>\n",
       "      <td>FWD</td>\n",
       "      <td>–</td>\n",
       "      <td>Hybrid</td>\n",
       "      <td>Automatic CVT</td>\n",
       "      <td>2.0L I4 16V GDI DOHC Hybrid</td>\n",
       "      <td>2HKRS5H50PH714500</td>\n",
       "      <td>STK714500</td>\n",
       "      <td>2 mi.</td>\n",
       "      <td>2023 Honda CR-V Hybrid Sport</td>\n",
       "      <td>This CR-V Hybrid is in transit. We are happy t...</td>\n",
       "      <td>$34,245</td>\n",
       "    </tr>\n",
       "    <tr>\n",
       "      <th>3</th>\n",
       "      <td>Carpathian Grey</td>\n",
       "      <td>Ebony</td>\n",
       "      <td>Four-wheel Drive</td>\n",
       "      <td>–</td>\n",
       "      <td>Gasoline</td>\n",
       "      <td>Automatic</td>\n",
       "      <td>2.0L I4 16V GDI DOHC Turbo</td>\n",
       "      <td>SALCT2FX3PH919614</td>\n",
       "      <td>J23014</td>\n",
       "      <td>13,615 mi.</td>\n",
       "      <td>2023 Land Rover Discovery Sport S R-Dynamic</td>\n",
       "      <td>South Shore Protection Package includes: Stand...</td>\n",
       "      <td>$45,995</td>\n",
       "    </tr>\n",
       "    <tr>\n",
       "      <th>4</th>\n",
       "      <td>Sterling Gray Metallic</td>\n",
       "      <td>Jet Black</td>\n",
       "      <td>Four-wheel Drive</td>\n",
       "      <td>–</td>\n",
       "      <td>Diesel</td>\n",
       "      <td>10-Speed Automatic with Overdrive</td>\n",
       "      <td>3.0L I6 24V DDI DOHC Turbo Diesel</td>\n",
       "      <td>1GNSKTKT3PR367211</td>\n",
       "      <td>T230903</td>\n",
       "      <td>2 mi.</td>\n",
       "      <td>2023 Chevrolet Tahoe High Country</td>\n",
       "      <td>Sterling Gray Metallic 2023 Chevrolet Tahoe Hi...</td>\n",
       "      <td>$82,360</td>\n",
       "    </tr>\n",
       "  </tbody>\n",
       "</table>\n",
       "</div>"
      ],
      "text/plain": [
       "           exterior_color interior_color        drivetrain MPG fuel_type  \\\n",
       "0            Summit White          Black  Four-wheel Drive   –  Gasoline   \n",
       "1        Midnight Emerald         Saddle   All-wheel Drive   –    Hybrid   \n",
       "2   Lunar Silver Metallic          Black               FWD   –    Hybrid   \n",
       "3         Carpathian Grey          Ebony  Four-wheel Drive   –  Gasoline   \n",
       "4  Sterling Gray Metallic      Jet Black  Four-wheel Drive   –    Diesel   \n",
       "\n",
       "                        transmission                             engine  \\\n",
       "0                  6-Speed Automatic                6.6L V8 16V GDI OHV   \n",
       "1                  8-Speed Automatic  3.0L V6 24V GDI DOHC Turbo Hybrid   \n",
       "2                      Automatic CVT        2.0L I4 16V GDI DOHC Hybrid   \n",
       "3                          Automatic         2.0L I4 16V GDI DOHC Turbo   \n",
       "4  10-Speed Automatic with Overdrive  3.0L I6 24V DDI DOHC Turbo Diesel   \n",
       "\n",
       "                 VIN      stock     mileage  \\\n",
       "0  2GC4YME79P1731662      C3131       3 mi.   \n",
       "1  SJAAT2ZV7PC019709    23B6205     797 mi.   \n",
       "2  2HKRS5H50PH714500  STK714500       2 mi.   \n",
       "3  SALCT2FX3PH919614     J23014  13,615 mi.   \n",
       "4  1GNSKTKT3PR367211    T230903       2 mi.   \n",
       "\n",
       "                                         names  \\\n",
       "0         2023 Chevrolet Silverado 2500 Custom   \n",
       "1           2023 Bentley Bentayga Hybrid Azure   \n",
       "2                 2023 Honda CR-V Hybrid Sport   \n",
       "3  2023 Land Rover Discovery Sport S R-Dynamic   \n",
       "4            2023 Chevrolet Tahoe High Country   \n",
       "\n",
       "                                         description    prices  \n",
       "0  2023 Chevrolet Silverado 2500HD Custom 4D Crew...   $54,865  \n",
       "1  Bentley Beverly Hills is proud to present this...  $246,150  \n",
       "2  This CR-V Hybrid is in transit. We are happy t...   $34,245  \n",
       "3  South Shore Protection Package includes: Stand...   $45,995  \n",
       "4  Sterling Gray Metallic 2023 Chevrolet Tahoe Hi...   $82,360  "
      ]
     },
     "execution_count": 291,
     "metadata": {},
     "output_type": "execute_result"
    }
   ],
   "source": [
    "Cars_com_data.head(5)"
   ]
  },
  {
   "cell_type": "code",
   "execution_count": 292,
   "id": "41eb6b5f-88a6-478f-8a1d-f8ddbc6d8c5b",
   "metadata": {},
   "outputs": [],
   "source": [
    "Cars_com_data.to_csv('Cars_com_data.csv', index=False)"
   ]
  }
 ],
 "metadata": {
  "kernelspec": {
   "display_name": "Python 3 (ipykernel)",
   "language": "python",
   "name": "python3"
  },
  "language_info": {
   "codemirror_mode": {
    "name": "ipython",
    "version": 3
   },
   "file_extension": ".py",
   "mimetype": "text/x-python",
   "name": "python",
   "nbconvert_exporter": "python",
   "pygments_lexer": "ipython3",
   "version": "3.8.10"
  }
 },
 "nbformat": 4,
 "nbformat_minor": 5
}
